{
 "cells": [
  {
   "cell_type": "code",
   "execution_count": null,
   "metadata": {},
   "outputs": [],
   "source": [
    "import requests\n",
    "import pandas as pd\n",
    "import matplotlib.pyplot as plt\n",
    "pd.options.display.float_format = '{:,.2f}'.format"
   ]
  },
  {
   "cell_type": "code",
   "execution_count": null,
   "metadata": {},
   "outputs": [],
   "source": [
    "# Build base url\n",
    "HOST = 'https://api.census.gov/data'\n",
    "year = '2019'\n",
    "dataset = 'acs/acs1'\n",
    "base_url = '/'.join([HOST, year, dataset])\n",
    "\n",
    "# Specify Census variables and other predicates\n",
    "get_vars = ['NAME', 'B01003_001E', 'B03001_001E', 'B03001_007E']\n",
    "predicates = {}\n",
    "predicates['get']=\",\".join(get_vars)\n",
    "predicates['for']=\"county subdivision: 91056, 91140, 91392, 92928, 92931, 93078, 93392, 93616\" # codes for Enumclaw Plateau CCD, King County, WA; Federal Way-Auburn CCD, King County, WA; Issaquah Plateau CCD, King County, WA;Seattle CCD, King County, WA; Seattle East CCD, King County, WA; noqualmie Valley CCD, King County, WA, Tahoma-Maple Valley CCD, King County, WA; Vashon Island CCD, King County, WA (10,036)\n",
    "col_names = ['name', 'total_pop', 'total_hisc_pop', 'total_dominican_pop', 'state']\n",
    "\n",
    "#Loop over years 2014 to 2015\n",
    "dfs=[]\n",
    "for year in range(2014, 2016):\n",
    "    base_url = '/'.join([HOST, str(year), dataset])\n",
    "    r = requests.get(base_url, params=predicates)\n",
    "    df = pd.DataFrame(columns=col_names, data=r.json()[1:])\n",
    "    df['year'] = year\n",
    "    dfs.append(df)\n",
    "    \n",
    "df_states = pd.concat(dfs)    "
   ]
  }
 ],
 "metadata": {
  "kernelspec": {
   "display_name": "Python 3",
   "language": "python",
   "name": "python3"
  },
  "language_info": {
   "codemirror_mode": {
    "name": "ipython",
    "version": 3
   },
   "file_extension": ".py",
   "mimetype": "text/x-python",
   "name": "python",
   "nbconvert_exporter": "python",
   "pygments_lexer": "ipython3",
   "version": "3.8.3"
  }
 },
 "nbformat": 4,
 "nbformat_minor": 4
}
